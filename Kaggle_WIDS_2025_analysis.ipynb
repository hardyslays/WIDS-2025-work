{
  "nbformat": 4,
  "nbformat_minor": 0,
  "metadata": {
    "colab": {
      "provenance": [],
      "gpuType": "T4"
    },
    "kernelspec": {
      "name": "python3",
      "display_name": "Python 3"
    },
    "language_info": {
      "name": "python"
    },
    "accelerator": "GPU"
  },
  "cells": [
    {
      "cell_type": "markdown",
      "source": [
        "# Pre-configuration steps:\n",
        "### Google Colab -\n",
        "1. Go to Kaggle -> Profile -> Settings -> API.\n",
        "2. Click on \"create new API key\", it will download a kaggle.json file to your local system.\n",
        "3. Upload the \"kaggle.json\" file to the \"~/content/\" folderin Colab workspace.\n",
        "4. Run the Below 2 cells to download the competition dataset and extract it to the same \"~/content/\" folder.\n",
        "\n",
        "Local -\n",
        "1. Go to Kaggle -> Profile -> Settings -> API.\n",
        "2. Click on \"create new API key\", it will download a kaggle.json file to your local system.\n",
        "3. Put the \"kaggle.json\" file in the same directory as this notebook and run the next command.\n",
        "4. Also, you'll have to install the required libraries in your local system, as Colab has the libraries such as Numpy and Pandas pre-installed."
      ],
      "metadata": {
        "id": "gWMavJArTtsI"
      }
    },
    {
      "cell_type": "code",
      "source": [
        "! mkdir ~/.kaggle\n",
        "! cp kaggle.json ~/.kaggle/\n",
        "! chmod 600 ~/.kaggle/kaggle.json\n",
        "\n",
        "! kaggle competitions download -c widsdatathon2025"
      ],
      "metadata": {
        "id": "OeYZizn9RYbZ"
      },
      "execution_count": null,
      "outputs": []
    },
    {
      "cell_type": "code",
      "source": [
        "# Extract the downloaded dataset\n",
        "from zipfile import ZipFile\n",
        "\n",
        "file = \"widsdatathon2025.zip\"\n",
        "\n",
        "# open the zip file in read mode\n",
        "with ZipFile(file, 'r') as zip:\n",
        "    # list all the contents of the zip file\n",
        "    zip.printdir()\n",
        "\n",
        "    # extract all files\n",
        "    print('extraction...')\n",
        "    zip.extractall()\n",
        "    print('Done!')"
      ],
      "metadata": {
        "id": "0LE-tI9oR3D7"
      },
      "execution_count": null,
      "outputs": []
    },
    {
      "cell_type": "code",
      "source": [
        "!pip install ydata-profiling"
      ],
      "metadata": {
        "id": "5wBQNtCJis7u"
      },
      "execution_count": null,
      "outputs": []
    },
    {
      "cell_type": "code",
      "source": [
        "# Imports\n",
        "import pandas as pd\n",
        "import numpy as np\n",
        "from ydata_profiling import ProfileReport\n",
        "from  scipy.stats import zscore\n",
        "import matplotlib.pyplot as plt\n",
        "import seaborn as sns"
      ],
      "metadata": {
        "id": "_vHpOkn2VUii"
      },
      "execution_count": null,
      "outputs": []
    },
    {
      "cell_type": "code",
      "source": [
        "# Load the training dataset\n",
        "train_solution = pd.read_excel(\"TRAIN/TRAINING_SOLUTIONS.xlsx\")\n",
        "train_categorical_meta = pd.read_excel(\"TRAIN/TRAIN_CATEGORICAL_METADATA.xlsx\")\n",
        "train_quantitative_meta = pd.read_excel(\"TRAIN/TRAIN_QUANTITATIVE_METADATA.xlsx\")\n",
        "train_function_metric = pd.read_csv(\"TRAIN/TRAIN_FUNCTIONAL_CONNECTOME_MATRICES.csv\")\n",
        "\n",
        "print(train_solution.shape, train_categorical_meta.shape, train_quantitative_meta.shape, train_function_metric.shape)\n"
      ],
      "metadata": {
        "id": "etA4J9hOUdMC"
      },
      "execution_count": null,
      "outputs": []
    },
    {
      "cell_type": "code",
      "source": [
        "train_solution.head()"
      ],
      "metadata": {
        "id": "xGbdcj9AXz7Y"
      },
      "execution_count": null,
      "outputs": []
    },
    {
      "cell_type": "code",
      "source": [
        "train_categorical_meta.head()"
      ],
      "metadata": {
        "id": "VZpE5kPpYGDU"
      },
      "execution_count": null,
      "outputs": []
    },
    {
      "cell_type": "code",
      "source": [
        "train_quantitative_meta.head()"
      ],
      "metadata": {
        "id": "D8qxLKLvYJAY"
      },
      "execution_count": null,
      "outputs": []
    },
    {
      "cell_type": "code",
      "source": [
        "train_function_metric.head()"
      ],
      "metadata": {
        "id": "x2FUwclEYLB7"
      },
      "execution_count": null,
      "outputs": []
    },
    {
      "cell_type": "markdown",
      "source": [
        "# Exploratory Data Analysis (EDA)"
      ],
      "metadata": {
        "id": "ofCMFGL9i5T5"
      }
    },
    {
      "cell_type": "code",
      "source": [
        "train_categorical_EDA = ProfileReport(train_categorical_meta, title=\"Categorical Metadata EDA\")\n",
        "train_quantitative_EDA = ProfileReport(train_quantitative_meta, title=\"Quantitative Metadata EDA\")"
      ],
      "metadata": {
        "id": "4vwO1riqi2v1"
      },
      "execution_count": null,
      "outputs": []
    },
    {
      "cell_type": "code",
      "source": [
        "train_categorical_EDA"
      ],
      "metadata": {
        "id": "Sg6aFOgqj8Gt"
      },
      "execution_count": null,
      "outputs": []
    },
    {
      "cell_type": "code",
      "source": [
        "train_quantitative_EDA"
      ],
      "metadata": {
        "id": "O_RrFy94ludC"
      },
      "execution_count": null,
      "outputs": []
    },
    {
      "cell_type": "code",
      "source": [
        "# train_categorical_meta['participant_id'] = train_categorical_meta['participant_id'].apply('str')\n",
        "train_demographic_data_with_sol = pd.merge(train_quantitative_meta, train_categorical_meta, on=\"participant_id\", how=\"inner\")\n",
        "train_demographic_data_with_sol = pd.merge(train_demographic_data_with_sol, train_solution, on=\"participant_id\", how=\"inner\")"
      ],
      "metadata": {
        "id": "2bEk0yTwlxLG"
      },
      "execution_count": null,
      "outputs": []
    },
    {
      "cell_type": "code",
      "source": [
        "# EDA on the demographic data (Brain functioning metrics excluded)\n",
        "train_demographic_EDA = ProfileReport(train_demographic_data_with_sol, title=\"Demoggraphic data profile\")"
      ],
      "metadata": {
        "id": "R6WCH9wJ59Rm"
      },
      "execution_count": null,
      "outputs": []
    },
    {
      "cell_type": "code",
      "source": [
        "train_demographic_EDA"
      ],
      "metadata": {
        "id": "2kxerSlA7p42"
      },
      "execution_count": null,
      "outputs": []
    },
    {
      "cell_type": "markdown",
      "source": [
        "# EDA on functional connectome metrics"
      ],
      "metadata": {
        "id": "UZaAiCg7-tzR"
      }
    },
    {
      "cell_type": "code",
      "source": [
        "# Describe functional metrics\n",
        "train_function_metric.describe()"
      ],
      "metadata": {
        "id": "RKchhJuypM0t"
      },
      "execution_count": null,
      "outputs": []
    },
    {
      "cell_type": "code",
      "source": [
        "missing_columns_function = train_function_metric.columns[train_function_metric.isnull().sum() > 0].tolist()\n",
        "print(\"Missing columns: \")\n",
        "print(missing_columns_function)"
      ],
      "metadata": {
        "id": "0kK2_nGvt_vB"
      },
      "execution_count": null,
      "outputs": []
    },
    {
      "cell_type": "code",
      "source": [
        "train_functional_metric_with_label = pd.merge(train_function_metric, train_solution, on=\"participant_id\", how=\"inner\")\n",
        "train_functional_metric_with_label = train_functional_metric_with_label.drop('participant_id', axis=1)"
      ],
      "metadata": {
        "id": "svLIFYxUCFTh"
      },
      "execution_count": null,
      "outputs": []
    },
    {
      "cell_type": "code",
      "source": [
        "corr_with_adhd = train_functional_metric_with_label.corrwith(train_functional_metric_with_label['ADHD_Outcome'], axis=0)\n",
        "corr_with_adhd.head()"
      ],
      "metadata": {
        "id": "1Roh4Fgy_nvC"
      },
      "execution_count": null,
      "outputs": []
    },
    {
      "cell_type": "code",
      "source": [
        "corr_with_sex_f = train_functional_metric_with_label.corrwith(train_functional_metric_with_label['Sex_F'], axis=0)\n",
        "corr_with_sex_f.describe()"
      ],
      "metadata": {
        "id": "dEA7-pSFIgQZ"
      },
      "execution_count": null,
      "outputs": []
    }
  ]
}